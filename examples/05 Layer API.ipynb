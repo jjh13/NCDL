{
 "cells": [
  {
   "cell_type": "markdown",
   "id": "e782c757",
   "metadata": {},
   "source": [
    "# Layer API\n",
    "The ncnn module contains the layer abstraction. "
   ]
  },
  {
   "cell_type": "code",
   "execution_count": 2,
   "id": "d8c7f197",
   "metadata": {},
   "outputs": [],
   "source": [
    "import ncdl\n",
    "import torch\n",
    "\n",
    "import torch.nn as nn\n",
    "import ncdl.nn as ncnn\n",
    "\n",
    "from ncdl import Lattice, Stencil"
   ]
  },
  {
   "cell_type": "markdown",
   "id": "c89b8e23",
   "metadata": {},
   "source": [
    "We start by defining some data."
   ]
  },
  {
   "cell_type": "code",
   "execution_count": 17,
   "id": "3344a053",
   "metadata": {},
   "outputs": [],
   "source": [
    "qc = Lattice(\"qc\")\n",
    "\n",
    "blue_coset = torch.rand(4, 4, 10, 10)\n",
    "orange_coset = torch.rand(4, 4, 9, 9)\n",
    "\n",
    "lt = qc(\n",
    "    blue_coset, \n",
    "    orange_coset\n",
    ") "
   ]
  },
  {
   "cell_type": "markdown",
   "id": "5fd0b340",
   "metadata": {},
   "source": [
    "The following is a worked example of a residual block. The code is short and very pytorch-ic."
   ]
  },
  {
   "cell_type": "code",
   "execution_count": 19,
   "id": "7bb0153c",
   "metadata": {},
   "outputs": [],
   "source": [
    "class QuincunxResBlock(nn.Module):\n",
    "    def __init__(self, channels_in, channels_out, channels_mid):\n",
    "        super().__init__()\n",
    "        \n",
    "        self.lattice = Lattice(\"qc\")\n",
    "        \n",
    "        # Define a stencil\n",
    "        stencil = Stencil([\n",
    "            (0, 0), (2, 0), (0, 2), (2, 2), (1, 1)\n",
    "        ], self.lattice, center=(1,1))\n",
    "        \n",
    "        \n",
    "        # define the blocks\n",
    "        self.inner_block = nn.Sequential(\n",
    "            ncnn.LatticePad(self.lattice, stencil),\n",
    "            ncnn.LatticeConvolution(self.lattice, channels_in, channels_mid, stencil),\n",
    "            ncnn.LatticeBatchNorm(self.lattice, channels_mid),\n",
    "            ncnn.ReLU(),\n",
    "            \n",
    "            ncnn.LatticePad(self.lattice, stencil),\n",
    "            ncnn.LatticeConvolution(self.lattice, channels_mid, channels_in, stencil),\n",
    "            ncnn.LatticeBatchNorm(self.lattice, channels_in),\n",
    "            ncnn.ReLU()\n",
    "        )\n",
    "        \n",
    "        self.outer_block = nn.Sequential(\n",
    "            ncnn.LatticePad(self.lattice, stencil),\n",
    "            ncnn.LatticeConvolution(self.lattice, channels_mid, channels_in, stencil),\n",
    "            ncnn.LatticePad(self.lattice, stencil), #note, this should actually be -inf padded...\n",
    "            ncnn.LatticeMaxPooling(self.lattice, stencil)\n",
    "        )\n",
    "    def forward(self, lt):\n",
    "        lto = self.inner_block(lt) + lt\n",
    "        return self.outer_block(lto)\n",
    "\n",
    "qcrb = QuincunxResBlock(4, 8, 4)"
   ]
  },
  {
   "cell_type": "markdown",
   "id": "679a056e",
   "metadata": {},
   "source": [
    "Using this layer is exactly the same as in the pytorch layer api."
   ]
  },
  {
   "cell_type": "code",
   "execution_count": 21,
   "id": "8356d4fd",
   "metadata": {},
   "outputs": [],
   "source": [
    "lto = qcrb(lt)"
   ]
  },
  {
   "cell_type": "code",
   "execution_count": null,
   "id": "e20a8a52",
   "metadata": {},
   "outputs": [],
   "source": []
  }
 ],
 "metadata": {
  "kernelspec": {
   "display_name": "Python 3 (ipykernel)",
   "language": "python",
   "name": "python3"
  },
  "language_info": {
   "codemirror_mode": {
    "name": "ipython",
    "version": 3
   },
   "file_extension": ".py",
   "mimetype": "text/x-python",
   "name": "python",
   "nbconvert_exporter": "python",
   "pygments_lexer": "ipython3",
   "version": "3.8.13"
  }
 },
 "nbformat": 4,
 "nbformat_minor": 5
}
