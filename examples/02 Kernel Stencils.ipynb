{
 "cells": [
  {
   "cell_type": "markdown",
   "id": "1f9f7d12",
   "metadata": {},
   "source": [
    "# Kernel Stencils\n",
    "\n",
    "Stencils are somewhat of a necessary evil. In vanilla PyTorch, you supply a kernel for convolution/pooling by specifing the extent of the (rectangular) kernel. This is what the Stencil is generalizing. For a lattice, certain filter shapes are more/less appropriate. Although I'm not sure if that's strictly true in the case of machine learning, so we leave the ability to play with this geometry.\n",
    "\n",
    "Stencils allow you to specify the exact geometry you want for kernels/windows. These can be as practical/impractical as you'd like, provided that all of the stencil geometry is positive.\n",
    "\n",
    "\n",
    "Let's start with a simple example."
   ]
  },
  {
   "cell_type": "code",
   "execution_count": 17,
   "id": "521a5e82",
   "metadata": {},
   "outputs": [],
   "source": [
    "from ncdl import Lattice, Stencil\n",
    "\n",
    "qc = Lattice(\"qc\")\n",
    "\n",
    "stencil = Stencil([\n",
    "    (0, 0), (0, 2), (2, 2), (1, 1)\n",
    "#     (0, 0), (2, 0), (0, 2), (2, 2), (1, 1) # A more sensible stencil to play with\n",
    "], qc, center=(1,1))"
   ]
  },
  {
   "cell_type": "markdown",
   "id": "ae1c9056",
   "metadata": {},
   "source": [
    "If, for whatever reason, you want to see how this stencil is decomposed into separate Cartesian cosets."
   ]
  },
  {
   "cell_type": "code",
   "execution_count": 22,
   "id": "ed750f5f",
   "metadata": {},
   "outputs": [
    {
     "data": {
      "text/plain": [
       "[[(0, 0), (0, 1), (1, 1)], [(0, 0)]]"
      ]
     },
     "execution_count": 22,
     "metadata": {},
     "output_type": "execute_result"
    }
   ],
   "source": [
    "stencil.coset_decompose(packed_output=True) # Packed output means that we'll get cartesian cosets back"
   ]
  },
  {
   "cell_type": "code",
   "execution_count": 20,
   "id": "d75a6d54",
   "metadata": {},
   "outputs": [
    {
     "data": {
      "text/plain": [
       "([0, 0], [2, 2])"
      ]
     },
     "execution_count": 20,
     "metadata": {},
     "output_type": "execute_result"
    }
   ],
   "source": [
    "stencil.stencil_boundaries(0)"
   ]
  },
  {
   "cell_type": "markdown",
   "id": "7ecef775",
   "metadata": {},
   "source": [
    "It's helpful to know how cosets have been packed. For example, if you want to manipulate filter weights for a convolution. First, let's define a convolutional layer:"
   ]
  },
  {
   "cell_type": "code",
   "execution_count": 9,
   "id": "fdb518ef",
   "metadata": {},
   "outputs": [],
   "source": [
    "import ncdl.nn as ncnn\n",
    "\n",
    "lc = ncnn.LatticeConvolution(qc, 8, 16, stencil)"
   ]
  },
  {
   "cell_type": "markdown",
   "id": "bc14e8de",
   "metadata": {},
   "source": [
    "All of the geometry of the convoution is packed into a single parameter tensor"
   ]
  },
  {
   "cell_type": "code",
   "execution_count": 11,
   "id": "ffe6b782",
   "metadata": {},
   "outputs": [
    {
     "data": {
      "text/plain": [
       "torch.Size([16, 8, 5])"
      ]
     },
     "execution_count": 11,
     "metadata": {},
     "output_type": "execute_result"
    }
   ],
   "source": [
    "lc.weights.shape"
   ]
  },
  {
   "cell_type": "code",
   "execution_count": null,
   "id": "5bd1f02a",
   "metadata": {},
   "outputs": [],
   "source": [
    "stencil."
   ]
  }
 ],
 "metadata": {
  "kernelspec": {
   "display_name": "Python 3 (ipykernel)",
   "language": "python",
   "name": "python3"
  },
  "language_info": {
   "codemirror_mode": {
    "name": "ipython",
    "version": 3
   },
   "file_extension": ".py",
   "mimetype": "text/x-python",
   "name": "python",
   "nbconvert_exporter": "python",
   "pygments_lexer": "ipython3",
   "version": "3.8.13"
  }
 },
 "nbformat": 4,
 "nbformat_minor": 5
}
